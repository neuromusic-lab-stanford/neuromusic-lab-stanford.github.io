{
 "cells": [
  {
   "cell_type": "markdown",
   "metadata": {},
   "source": [
    "| [Home](index.html) | [Lab Members](lab_members.html) | [Research](research.html) | [Get Involved](get_involved.html) | [Contact Us](contact_us.html) | [Lab Github](https://github.com/neuromusic-lab-stanford) | [Internal]() |\n",
    "\n",
    "---"
   ]
  },
  {
   "cell_type": "markdown",
   "metadata": {},
   "source": [
    "# Contact Information # "
   ]
  },
  {
   "cell_type": "markdown",
   "metadata": {},
   "source": [
    "---\n",
    "## Lab Members ##\n",
    "\n",
    "### Takako Fujioka ###\n",
    "### Aury Washburn ###\n",
    "### Madeline Huberth ###\n",
    "### Emily Graber ###\n",
    "### Irán Román ###\n",
    "### Tysen Dauer ###\n",
    "### Ben Strauber ###\n",
    "### Kunwoo Kim ###\n",
    "### Barbara Nerness ###\n",
    "### Elena Georgieva ###"
   ]
  },
  {
   "cell_type": "markdown",
   "metadata": {},
   "source": [
    "---\n",
    "## Address ##\n",
    " \n",
    "Center for Computer Research in Music and Acoustics\n",
    "660 Lomita Drive, Room 103 (Ground Floor)\n",
    "Stanford, CA 94305\n",
    "\n",
    "[Google Map](http://maps.google.com/maps?f=q&hl=en&geocode=&q=660+lomita,+stanford+ca&sll=37.0625,-95.677068&sspn=45.197878,82.265625&ie=UTF8&om=1&z=16&layer=t)\n",
    "\n",
    "We are located in Stanford's Center for Computer Research in Music and Acoustics (CCRMA). CCRMA is the mansion-looking building on the hill. Our lab is in the ground floor, Room 103. "
   ]
  },
  {
   "cell_type": "markdown",
   "metadata": {},
   "source": [
    "---\n",
    "## Other CCRMA People ##\n",
    "\n",
    "### Chris Chafe ###\n",
    "### Nette Worthey ###\n",
    "### Matt Wright ###"
   ]
  },
  {
   "cell_type": "markdown",
   "metadata": {},
   "source": [
    "---"
   ]
  }
 ],
 "metadata": {
  "kernelspec": {
   "display_name": "Julia 0.5.2",
   "language": "julia",
   "name": "julia-0.5"
  },
  "language_info": {
   "file_extension": ".jl",
   "mimetype": "application/julia",
   "name": "julia",
   "version": "0.5.2"
  }
 },
 "nbformat": 4,
 "nbformat_minor": 2
}
