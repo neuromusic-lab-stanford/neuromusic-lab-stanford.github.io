{
 "cells": [
  {
   "cell_type": "markdown",
   "metadata": {},
   "source": [
    "| [Home](index.html) | [Lab Members](lab_members.html) | [Research](research.html) | [Get Involved](get_involved.html) | [Contact Us](contact_us.html) | [Lab Github](https://github.com/neuromusic-lab-stanford) | [Internal]() |\n",
    "\n",
    "---"
   ]
  },
  {
   "cell_type": "markdown",
   "metadata": {},
   "source": [
    "# The Neuromusic Lab #\n",
    "\n",
    "<img align=\"left\" src=\"pictures/ccrma_front.jpg\" style=\"width: 800px\" />"
   ]
  },
  {
   "cell_type": "markdown",
   "metadata": {},
   "source": [
    "| [Neuromusic Lab]() | [Center for Computer Research in Music and Acoustics](https://ccrma.stanford.edu/) | [Department of Music](https://music.stanford.edu/) | [Stanford University](https://www.stanford.edu/) |"
   ]
  }
 ],
 "metadata": {
  "kernelspec": {
   "display_name": "Julia 0.5.2",
   "language": "julia",
   "name": "julia-0.5"
  },
  "language_info": {
   "file_extension": ".jl",
   "mimetype": "application/julia",
   "name": "julia",
   "version": "0.5.2"
  }
 },
 "nbformat": 4,
 "nbformat_minor": 2
}
